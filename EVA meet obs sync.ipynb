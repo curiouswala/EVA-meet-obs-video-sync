{
 "cells": [
  {
   "cell_type": "code",
   "execution_count": 6,
   "id": "psychological-longer",
   "metadata": {},
   "outputs": [
    {
     "name": "stdout",
     "output_type": "stream",
     "text": [
      "Collecting youtube-dl\n",
      "  Downloading youtube_dl-2021.1.24.1-py2.py3-none-any.whl (1.9 MB)\n",
      "\u001b[K     |████████████████████████████████| 1.9 MB 961 kB/s eta 0:00:01\n",
      "\u001b[?25hInstalling collected packages: youtube-dl\n",
      "Successfully installed youtube-dl-2021.1.24.1\n",
      "\u001b[33mWARNING: You are using pip version 20.3.3; however, version 21.0 is available.\n",
      "You should consider upgrading via the '/mnt/c/Users/Hasan/Desktop/work/eva video sync/env/bin/python -m pip install --upgrade pip' command.\u001b[0m\n"
     ]
    }
   ],
   "source": [
    "!pip install youtube-dl\n",
    "!apt-get install -y ffmpeg"
   ]
  },
  {
   "cell_type": "code",
   "execution_count": 1,
   "id": "simple-skating",
   "metadata": {},
   "outputs": [],
   "source": [
    "import os"
   ]
  },
  {
   "cell_type": "code",
   "execution_count": 2,
   "id": "intensive-force",
   "metadata": {},
   "outputs": [
    {
     "name": "stdin",
     "output_type": "stream",
     "text": [
      "Enter the OBS youtube link: https://www.youtube.com/watch?v=nFgFjQqzKnU\n",
      "Enter the Google meet youtube link: https://www.youtube.com/watch?v=F6m4qCcpThY\n"
     ]
    }
   ],
   "source": [
    "obs_link = input('Enter the OBS youtube link:')\n",
    "meet_link = input('Enter the Google meet youtube link:')"
   ]
  },
  {
   "cell_type": "code",
   "execution_count": 3,
   "id": "nuclear-million",
   "metadata": {},
   "outputs": [
    {
     "name": "stdout",
     "output_type": "stream",
     "text": [
      "Downloading OBS version\n",
      "Downloading Meet version\n"
     ]
    },
    {
     "data": {
      "text/plain": [
       "2"
      ]
     },
     "execution_count": 3,
     "metadata": {},
     "output_type": "execute_result"
    }
   ],
   "source": [
    "print('Downloading OBS version')\n",
    "os.system(f'youtube-dl --external-downloader aria2c {obs_link} -o obs.mp4')\n",
    "print('Downloading Meet version')\n",
    "os.system(f'youtube-dl --external-downloader aria2c {meet_link} -o meet.mp4')"
   ]
  },
  {
   "cell_type": "code",
   "execution_count": 12,
   "id": "dimensional-rwanda",
   "metadata": {},
   "outputs": [
    {
     "data": {
      "text/plain": [
       "0"
      ]
     },
     "execution_count": 12,
     "metadata": {},
     "output_type": "execute_result"
    }
   ],
   "source": [
    "match_length = 1000\n",
    "os.system(f'ffmpeg -ss 0 -t {match_length} -i obs.mp4 obs.wav')\n",
    "os.system(f'ffmpeg -ss 0 -t {match_length} -i gm.mp4 gm.wav')"
   ]
  },
  {
   "cell_type": "code",
   "execution_count": 13,
   "id": "wound-straight",
   "metadata": {},
   "outputs": [],
   "source": [
    "p = os.popen('./compute-sound-offset.sh gm.wav obs.wav 0')\n",
    "offset_value = p.read().strip()"
   ]
  },
  {
   "cell_type": "code",
   "execution_count": 14,
   "id": "exposed-provider",
   "metadata": {},
   "outputs": [
    {
     "name": "stdout",
     "output_type": "stream",
     "text": [
      "-909.78237500000000182\n"
     ]
    }
   ],
   "source": [
    "print(offset_value)"
   ]
  },
  {
   "cell_type": "code",
   "execution_count": 15,
   "id": "velvet-deposit",
   "metadata": {},
   "outputs": [
    {
     "data": {
      "text/plain": [
       "0"
      ]
     },
     "execution_count": 15,
     "metadata": {},
     "output_type": "execute_result"
    }
   ],
   "source": [
    "os.system(f'ffmpeg -i obs.mp4 -itsoffset {offset_value} -i gm.mp4 -c copy -map 0:0 -map 1:1 -shortest out.mp4')"
   ]
  },
  {
   "cell_type": "code",
   "execution_count": 9,
   "id": "female-clerk",
   "metadata": {},
   "outputs": [],
   "source": [
    "files = [\n",
    "    'obs.mp4',\n",
    "    'gm.mp4',\n",
    "    'obs.wav',\n",
    "    'gm.wav'\n",
    "]\n",
    "\n",
    "for f in files:\n",
    "    os.remove(f)"
   ]
  },
  {
   "cell_type": "code",
   "execution_count": null,
   "id": "residential-combination",
   "metadata": {},
   "outputs": [],
   "source": []
  }
 ],
 "metadata": {
  "kernelspec": {
   "display_name": "Python 3",
   "language": "python",
   "name": "python3"
  },
  "language_info": {
   "codemirror_mode": {
    "name": "ipython",
    "version": 3
   },
   "file_extension": ".py",
   "mimetype": "text/x-python",
   "name": "python",
   "nbconvert_exporter": "python",
   "pygments_lexer": "ipython3",
   "version": "3.8.5"
  }
 },
 "nbformat": 4,
 "nbformat_minor": 5
}
