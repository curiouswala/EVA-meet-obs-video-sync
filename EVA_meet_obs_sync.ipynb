{
  "nbformat": 4,
  "nbformat_minor": 0,
  "metadata": {
    "kernelspec": {
      "display_name": "Python 3",
      "language": "python",
      "name": "python3"
    },
    "language_info": {
      "codemirror_mode": {
        "name": "ipython",
        "version": 3
      },
      "file_extension": ".py",
      "mimetype": "text/x-python",
      "name": "python",
      "nbconvert_exporter": "python",
      "pygments_lexer": "ipython3",
      "version": "3.8.5"
    },
    "colab": {
      "name": "EVA meet obs sync.ipynb",
      "provenance": [],
      "collapsed_sections": []
    }
  },
  "cells": [
    {
      "cell_type": "code",
      "metadata": {
        "colab": {
          "base_uri": "https://localhost:8080/"
        },
        "id": "ud-ukh8yQ0Xj",
        "outputId": "dce2fe78-4ed3-4a93-9c34-bbf7a3f4d238"
      },
      "source": [
        "!pip install youtube-dl\n",
        "!apt-get install -y aria2"
      ],
      "execution_count": 1,
      "outputs": [
        {
          "output_type": "stream",
          "text": [
            "Requirement already satisfied: youtube-dl in /usr/local/lib/python3.6/dist-packages (2021.1.24.1)\n",
            "Reading package lists... Done\n",
            "Building dependency tree       \n",
            "Reading state information... Done\n",
            "aria2 is already the newest version (1.33.1-1).\n",
            "0 upgraded, 0 newly installed, 0 to remove and 13 not upgraded.\n"
          ],
          "name": "stdout"
        }
      ]
    },
    {
      "cell_type": "code",
      "metadata": {
        "colab": {
          "base_uri": "https://localhost:8080/"
        },
        "id": "0zk3KXhefj58",
        "outputId": "a93cf033-ef4f-4907-b9b9-0dfd2744cd87"
      },
      "source": [
        "!wget https://github.com/curiouswala/EVA-meet-obs-video-sync/blob/main/compute_sound_offset?raw=true -O compute_sound_offset\r\n",
        "!wget https://github.com/curiouswala/EVA-meet-obs-video-sync/raw/main/compute-sound-offset.sh -O compute-sound-offset.sh"
      ],
      "execution_count": 2,
      "outputs": [
        {
          "output_type": "stream",
          "text": [
            "--2021-01-24 17:48:14--  https://github.com/curiouswala/EVA-meet-obs-video-sync/blob/main/compute_sound_offset?raw=true\n",
            "Resolving github.com (github.com)... 140.82.112.4\n",
            "Connecting to github.com (github.com)|140.82.112.4|:443... connected.\n",
            "HTTP request sent, awaiting response... 302 Found\n",
            "Location: https://github.com/curiouswala/EVA-meet-obs-video-sync/raw/main/compute_sound_offset [following]\n",
            "--2021-01-24 17:48:14--  https://github.com/curiouswala/EVA-meet-obs-video-sync/raw/main/compute_sound_offset\n",
            "Reusing existing connection to github.com:443.\n",
            "HTTP request sent, awaiting response... 302 Found\n",
            "Location: https://raw.githubusercontent.com/curiouswala/EVA-meet-obs-video-sync/main/compute_sound_offset [following]\n",
            "--2021-01-24 17:48:14--  https://raw.githubusercontent.com/curiouswala/EVA-meet-obs-video-sync/main/compute_sound_offset\n",
            "Resolving raw.githubusercontent.com (raw.githubusercontent.com)... 151.101.0.133, 151.101.64.133, 151.101.128.133, ...\n",
            "Connecting to raw.githubusercontent.com (raw.githubusercontent.com)|151.101.0.133|:443... connected.\n",
            "HTTP request sent, awaiting response... 200 OK\n",
            "Length: 28192 (28K) [application/octet-stream]\n",
            "Saving to: ‘compute_sound_offset’\n",
            "\n",
            "compute_sound_offse 100%[===================>]  27.53K  --.-KB/s    in 0.002s  \n",
            "\n",
            "2021-01-24 17:48:15 (11.2 MB/s) - ‘compute_sound_offset’ saved [28192/28192]\n",
            "\n",
            "--2021-01-24 17:48:15--  https://github.com/curiouswala/EVA-meet-obs-video-sync/raw/main/compute-sound-offset.sh\n",
            "Resolving github.com (github.com)... 140.82.113.4\n",
            "Connecting to github.com (github.com)|140.82.113.4|:443... connected.\n",
            "HTTP request sent, awaiting response... 302 Found\n",
            "Location: https://raw.githubusercontent.com/curiouswala/EVA-meet-obs-video-sync/main/compute-sound-offset.sh [following]\n",
            "--2021-01-24 17:48:15--  https://raw.githubusercontent.com/curiouswala/EVA-meet-obs-video-sync/main/compute-sound-offset.sh\n",
            "Resolving raw.githubusercontent.com (raw.githubusercontent.com)... 151.101.0.133, 151.101.64.133, 151.101.128.133, ...\n",
            "Connecting to raw.githubusercontent.com (raw.githubusercontent.com)|151.101.0.133|:443... connected.\n",
            "HTTP request sent, awaiting response... 200 OK\n",
            "Length: 1094 (1.1K) [text/plain]\n",
            "Saving to: ‘compute-sound-offset.sh’\n",
            "\n",
            "compute-sound-offse 100%[===================>]   1.07K  --.-KB/s    in 0s      \n",
            "\n",
            "2021-01-24 17:48:15 (45.0 MB/s) - ‘compute-sound-offset.sh’ saved [1094/1094]\n",
            "\n"
          ],
          "name": "stdout"
        }
      ]
    },
    {
      "cell_type": "code",
      "metadata": {
        "id": "_5DIOuiAdbM5"
      },
      "source": [
        "!chmod 755 compute_sound_offset\r\n",
        "!chmod 755 compute-sound-offset.sh"
      ],
      "execution_count": 3,
      "outputs": []
    },
    {
      "cell_type": "code",
      "metadata": {
        "colab": {
          "base_uri": "https://localhost:8080/"
        },
        "id": "6MGbsxt2Q0Xs",
        "outputId": "acd48076-f112-48a8-f7fc-c2f2ecc53591"
      },
      "source": [
        "import os\n",
        "\n",
        "obs_link = input('Enter the OBS youtube link:')\n",
        "meet_link = input('Enter the Google meet youtube link:')"
      ],
      "execution_count": 4,
      "outputs": [
        {
          "output_type": "stream",
          "text": [
            "Enter the OBS youtube link:https://www.youtube.com/watch?v=qUcGB38L4_E\n",
            "Enter the Google meet youtube link:https://www.youtube.com/watch?v=F4gEcS9hPSI\n"
          ],
          "name": "stdout"
        }
      ]
    },
    {
      "cell_type": "code",
      "metadata": {
        "colab": {
          "base_uri": "https://localhost:8080/"
        },
        "id": "X5Er51rXQ0Xt",
        "outputId": "e4c8117d-31c2-415a-e37e-3b0156d9ec40"
      },
      "source": [
        "print('Downloading OBS version')\n",
        "os.system(f'youtube-dl -f 22 --external-downloader aria2c {obs_link} -o obs.mp4')\n",
        "print('Downloading Meet version')\n",
        "os.system(f'youtube-dl -f 22 --external-downloader aria2c {meet_link} -o gm.mp4')"
      ],
      "execution_count": 5,
      "outputs": [
        {
          "output_type": "stream",
          "text": [
            "Downloading OBS version\n",
            "Downloading Meet version\n"
          ],
          "name": "stdout"
        },
        {
          "output_type": "execute_result",
          "data": {
            "text/plain": [
              "0"
            ]
          },
          "metadata": {
            "tags": []
          },
          "execution_count": 5
        }
      ]
    },
    {
      "cell_type": "code",
      "metadata": {
        "colab": {
          "base_uri": "https://localhost:8080/"
        },
        "id": "ngVXwxc1Q0Xu",
        "outputId": "6281314d-fbf8-44df-f1f9-8d2195c0995b"
      },
      "source": [
        "match_length = 1000 # first n no of seconds which are used for offset calc\n",
        "# if the starting point of the both videos are far apart, increase it further.\n",
        "\n",
        "os.system(f'ffmpeg -ss 0 -t {match_length} -i obs.mp4 obs.wav')\n",
        "os.system(f'ffmpeg -ss 0 -t {match_length} -i gm.mp4 gm.wav')"
      ],
      "execution_count": 6,
      "outputs": [
        {
          "output_type": "execute_result",
          "data": {
            "text/plain": [
              "0"
            ]
          },
          "metadata": {
            "tags": []
          },
          "execution_count": 6
        }
      ]
    },
    {
      "cell_type": "code",
      "metadata": {
        "id": "Mr18gCXeQ0Xu",
        "colab": {
          "base_uri": "https://localhost:8080/"
        },
        "outputId": "a3a0ed0c-75f2-45ef-f1ac-be111538180d"
      },
      "source": [
        "p = os.popen('bash compute-sound-offset.sh gm.wav obs.wav 0')\n",
        "offset_value = p.read().strip()\n",
        "print(offset_value)"
      ],
      "execution_count": 13,
      "outputs": [
        {
          "output_type": "stream",
          "text": [
            "6.48275000000000023\n"
          ],
          "name": "stdout"
        }
      ]
    },
    {
      "cell_type": "code",
      "metadata": {
        "colab": {
          "base_uri": "https://localhost:8080/"
        },
        "id": "C3wRzCRHQ0Xv",
        "outputId": "f22a052b-830a-4ad6-8a0f-4d08f2bfb2e6"
      },
      "source": [
        "os.system(f'ffmpeg -i obs.mp4 -itsoffset {offset_value} -i gm.mp4 -c copy -map 0:0 -map 1:1 -shortest out.mp4')"
      ],
      "execution_count": 9,
      "outputs": [
        {
          "output_type": "execute_result",
          "data": {
            "text/plain": [
              "0"
            ]
          },
          "metadata": {
            "tags": []
          },
          "execution_count": 9
        }
      ]
    },
    {
      "cell_type": "code",
      "metadata": {
        "colab": {
          "base_uri": "https://localhost:8080/",
          "height": 35
        },
        "id": "5HCRC9UHhUp2",
        "outputId": "baaaca93-ff25-4c21-c861-888e132b64e5"
      },
      "source": [
        "# Downloading the output file from colab is slow\r\n",
        "# I just run it locally\r\n",
        "from google.colab import files\r\n",
        "files.download('out.mp4')"
      ],
      "execution_count": 12,
      "outputs": [
        {
          "output_type": "display_data",
          "data": {
            "application/javascript": [
              "\n",
              "    async function download(id, filename, size) {\n",
              "      if (!google.colab.kernel.accessAllowed) {\n",
              "        return;\n",
              "      }\n",
              "      const div = document.createElement('div');\n",
              "      const label = document.createElement('label');\n",
              "      label.textContent = `Downloading \"${filename}\": `;\n",
              "      div.appendChild(label);\n",
              "      const progress = document.createElement('progress');\n",
              "      progress.max = size;\n",
              "      div.appendChild(progress);\n",
              "      document.body.appendChild(div);\n",
              "\n",
              "      const buffers = [];\n",
              "      let downloaded = 0;\n",
              "\n",
              "      const channel = await google.colab.kernel.comms.open(id);\n",
              "      // Send a message to notify the kernel that we're ready.\n",
              "      channel.send({})\n",
              "\n",
              "      for await (const message of channel.messages) {\n",
              "        // Send a message to notify the kernel that we're ready.\n",
              "        channel.send({})\n",
              "        if (message.buffers) {\n",
              "          for (const buffer of message.buffers) {\n",
              "            buffers.push(buffer);\n",
              "            downloaded += buffer.byteLength;\n",
              "            progress.value = downloaded;\n",
              "          }\n",
              "        }\n",
              "      }\n",
              "      const blob = new Blob(buffers, {type: 'application/binary'});\n",
              "      const a = document.createElement('a');\n",
              "      a.href = window.URL.createObjectURL(blob);\n",
              "      a.download = filename;\n",
              "      div.appendChild(a);\n",
              "      a.click();\n",
              "      div.remove();\n",
              "    }\n",
              "  "
            ],
            "text/plain": [
              "<IPython.core.display.Javascript object>"
            ]
          },
          "metadata": {
            "tags": []
          }
        },
        {
          "output_type": "display_data",
          "data": {
            "application/javascript": [
              "download(\"download_01babf2c-09a2-4b7e-9c35-c98abee65ea9\", \"out.mp4\", 242359311)"
            ],
            "text/plain": [
              "<IPython.core.display.Javascript object>"
            ]
          },
          "metadata": {
            "tags": []
          }
        }
      ]
    },
    {
      "cell_type": "code",
      "metadata": {
        "id": "xbeHBpfmQ0Xv"
      },
      "source": [
        "files = [\n",
        "    'obs.mp4',\n",
        "    'meet.mp4',\n",
        "    'obs.wav',\n",
        "    'meet.wav'\n",
        "]\n",
        "\n",
        "for f in files:\n",
        "    os.remove(f)"
      ],
      "execution_count": null,
      "outputs": []
    }
  ]
}