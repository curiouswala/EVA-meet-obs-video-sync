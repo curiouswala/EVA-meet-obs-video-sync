{
  "nbformat": 4,
  "nbformat_minor": 0,
  "metadata": {
    "kernelspec": {
      "display_name": "Python 3",
      "language": "python",
      "name": "python3"
    },
    "language_info": {
      "codemirror_mode": {
        "name": "ipython",
        "version": 3
      },
      "file_extension": ".py",
      "mimetype": "text/x-python",
      "name": "python",
      "nbconvert_exporter": "python",
      "pygments_lexer": "ipython3",
      "version": "3.8.5"
    },
    "colab": {
      "name": "EVA meet obs sync.ipynb",
      "provenance": [],
      "collapsed_sections": []
    }
  },
  "cells": [
    {
      "cell_type": "code",
      "metadata": {
        "colab": {
          "base_uri": "https://localhost:8080/"
        },
        "id": "ud-ukh8yQ0Xj",
        "outputId": "2ff06cea-9346-41d1-c14a-3468ef296533"
      },
      "source": [
        "!pip install youtube-dl\n",
        "!apt-get install -y aria2"
      ],
      "execution_count": 1,
      "outputs": [
        {
          "output_type": "stream",
          "text": [
            "Requirement already satisfied: youtube-dl in /usr/local/lib/python3.6/dist-packages (2021.1.24.1)\n",
            "Reading package lists... Done\n",
            "Building dependency tree       \n",
            "Reading state information... Done\n",
            "aria2 is already the newest version (1.33.1-1).\n",
            "0 upgraded, 0 newly installed, 0 to remove and 13 not upgraded.\n"
          ],
          "name": "stdout"
        }
      ]
    },
    {
      "cell_type": "code",
      "metadata": {
        "colab": {
          "base_uri": "https://localhost:8080/"
        },
        "id": "0zk3KXhefj58",
        "outputId": "fc4de5af-e4fc-41a8-862f-1cbf671b24b3"
      },
      "source": [
        "!wget https://github.com/curiouswala/EVA-meet-obs-video-sync/blob/main/compute_sound_offset?raw=true -O compute_sound_offset\r\n",
        "!wget https://github.com/curiouswala/EVA-meet-obs-video-sync/raw/main/compute-sound-offset.sh -O compute-sound-offset.sh"
      ],
      "execution_count": 2,
      "outputs": [
        {
          "output_type": "stream",
          "text": [
            "--2021-01-24 18:46:51--  https://github.com/curiouswala/EVA-meet-obs-video-sync/blob/main/compute_sound_offset?raw=true\n",
            "Resolving github.com (github.com)... 140.82.113.4\n",
            "Connecting to github.com (github.com)|140.82.113.4|:443... connected.\n",
            "HTTP request sent, awaiting response... 302 Found\n",
            "Location: https://github.com/curiouswala/EVA-meet-obs-video-sync/raw/main/compute_sound_offset [following]\n",
            "--2021-01-24 18:46:52--  https://github.com/curiouswala/EVA-meet-obs-video-sync/raw/main/compute_sound_offset\n",
            "Reusing existing connection to github.com:443.\n",
            "HTTP request sent, awaiting response... 302 Found\n",
            "Location: https://raw.githubusercontent.com/curiouswala/EVA-meet-obs-video-sync/main/compute_sound_offset [following]\n",
            "--2021-01-24 18:46:52--  https://raw.githubusercontent.com/curiouswala/EVA-meet-obs-video-sync/main/compute_sound_offset\n",
            "Resolving raw.githubusercontent.com (raw.githubusercontent.com)... 151.101.0.133, 151.101.64.133, 151.101.128.133, ...\n",
            "Connecting to raw.githubusercontent.com (raw.githubusercontent.com)|151.101.0.133|:443... connected.\n",
            "HTTP request sent, awaiting response... 200 OK\n",
            "Length: 28192 (28K) [application/octet-stream]\n",
            "Saving to: ‘compute_sound_offset’\n",
            "\n",
            "compute_sound_offse 100%[===================>]  27.53K  --.-KB/s    in 0.002s  \n",
            "\n",
            "2021-01-24 18:46:52 (12.3 MB/s) - ‘compute_sound_offset’ saved [28192/28192]\n",
            "\n",
            "--2021-01-24 18:46:52--  https://github.com/curiouswala/EVA-meet-obs-video-sync/raw/main/compute-sound-offset.sh\n",
            "Resolving github.com (github.com)... 140.82.113.4\n",
            "Connecting to github.com (github.com)|140.82.113.4|:443... connected.\n",
            "HTTP request sent, awaiting response... 302 Found\n",
            "Location: https://raw.githubusercontent.com/curiouswala/EVA-meet-obs-video-sync/main/compute-sound-offset.sh [following]\n",
            "--2021-01-24 18:46:52--  https://raw.githubusercontent.com/curiouswala/EVA-meet-obs-video-sync/main/compute-sound-offset.sh\n",
            "Resolving raw.githubusercontent.com (raw.githubusercontent.com)... 151.101.0.133, 151.101.64.133, 151.101.128.133, ...\n",
            "Connecting to raw.githubusercontent.com (raw.githubusercontent.com)|151.101.0.133|:443... connected.\n",
            "HTTP request sent, awaiting response... 200 OK\n",
            "Length: 1094 (1.1K) [text/plain]\n",
            "Saving to: ‘compute-sound-offset.sh’\n",
            "\n",
            "compute-sound-offse 100%[===================>]   1.07K  --.-KB/s    in 0s      \n",
            "\n",
            "2021-01-24 18:46:52 (41.6 MB/s) - ‘compute-sound-offset.sh’ saved [1094/1094]\n",
            "\n"
          ],
          "name": "stdout"
        }
      ]
    },
    {
      "cell_type": "code",
      "metadata": {
        "id": "_5DIOuiAdbM5"
      },
      "source": [
        "!chmod 755 compute_sound_offset\r\n",
        "!chmod 755 compute-sound-offset.sh"
      ],
      "execution_count": 3,
      "outputs": []
    },
    {
      "cell_type": "code",
      "metadata": {
        "id": "6MGbsxt2Q0Xs"
      },
      "source": [
        "import os\n",
        "\n",
        "obs_link = 'https://www.youtube.com/watch?v=qUcGB38L4_E'\n",
        "meet_link = 'https://www.youtube.com/watch?v=F4gEcS9hPSI'"
      ],
      "execution_count": 4,
      "outputs": []
    },
    {
      "cell_type": "code",
      "metadata": {
        "colab": {
          "base_uri": "https://localhost:8080/"
        },
        "id": "ngVXwxc1Q0Xu",
        "outputId": "1c9b8ef8-fb5d-4a65-ca3e-311a955a1a1b"
      },
      "source": [
        "print('Downloading OBS version')\n",
        "os.system(f'youtube-dl -f 22 --external-downloader aria2c {obs_link} -o obs.mp4')\n",
        "print('Downloading Meet version')\n",
        "\n",
        "os.system(f'youtube-dl -f 22 --external-downloader aria2c {meet_link} -o gm.mp4')\n",
        "match_length = 1000 # first n no of seconds which are used for offset calc\n",
        "# if the starting point of the both videos are far apart, increase it further.\n",
        "print('Calculating offset')\n",
        "\n",
        "os.system(f'ffmpeg -ss 0 -t {match_length} -i obs.mp4 obs.wav')\n",
        "os.system(f'ffmpeg -ss 0 -t {match_length} -i gm.mp4 gm.wav')\n",
        "p = os.popen('bash compute-sound-offset.sh gm.wav obs.wav 0')\n",
        "offset_value = p.read().strip()\n",
        "print('offset value: ',offset_value)\n",
        "\n",
        "print('Making the final syned video.')\n",
        "os.system(f'ffmpeg -i obs.mp4 -itsoffset {offset_value} -i gm.mp4 -c copy -map 0:0 -map 1:1 -shortest out.mp4')"
      ],
      "execution_count": 5,
      "outputs": [
        {
          "output_type": "stream",
          "text": [
            "Downloading OBS version\n",
            "Downloading Meet version\n",
            "Calculating offset\n",
            "offset value:  6.48275000000000023\n",
            "Making the final output video.\n"
          ],
          "name": "stdout"
        },
        {
          "output_type": "execute_result",
          "data": {
            "text/plain": [
              "0"
            ]
          },
          "metadata": {
            "tags": []
          },
          "execution_count": 5
        }
      ]
    },
    {
      "cell_type": "code",
      "metadata": {
        "id": "5HCRC9UHhUp2"
      },
      "source": [
        "# Downloading the output file from colab is slow\r\n",
        "# I just run it locally\r\n",
        "from google.colab import files\r\n",
        "files.download('out.mp4')"
      ],
      "execution_count": 6,
      "outputs": []
    },
    {
      "cell_type": "code",
      "metadata": {
        "id": "xbeHBpfmQ0Xv"
      },
      "source": [
        "# always clean up before running again.\n",
        "import os\n",
        "files = [\n",
        "    'obs.mp4',\n",
        "    'gm.mp4',\n",
        "    'obs.wav',\n",
        "    'gm.wav',\n",
        "    'out.mp4'\n",
        "]\n",
        "\n",
        "for f in files:\n",
        "    os.remove(f)"
      ],
      "execution_count": 7,
      "outputs": []
    }
  ]
}